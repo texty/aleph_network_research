{
 "cells": [
  {
   "cell_type": "code",
   "execution_count": 65,
   "metadata": {
    "ExecuteTime": {
     "end_time": "2022-09-15T10:21:24.218788Z",
     "start_time": "2022-09-15T10:21:23.891772Z"
    }
   },
   "outputs": [
    {
     "name": "stderr",
     "output_type": "stream",
     "text": [
      "Missing colon in file PosixPath('/home/ptrbdr/.config/matplotlib/stylelib/texty.mplstyle'), line 14 (\"                               'fc4f30', \")\n",
      "Missing colon in file PosixPath('/home/ptrbdr/.config/matplotlib/stylelib/texty.mplstyle'), line 15 (\"                               'e5ae38',\")\n",
      "Missing colon in file PosixPath('/home/ptrbdr/.config/matplotlib/stylelib/texty.mplstyle'), line 16 (\"                               '6d904f',\")\n",
      "Missing colon in file PosixPath('/home/ptrbdr/.config/matplotlib/stylelib/texty.mplstyle'), line 17 (\"                               '8b8b8b',\")\n",
      "Missing colon in file PosixPath('/home/ptrbdr/.config/matplotlib/stylelib/texty.mplstyle'), line 18 (\"                               '810f7c'])\")\n",
      "Bad value in file PosixPath('/home/ptrbdr/.config/matplotlib/stylelib/texty.mplstyle'), line 13 (\"axes.prop_cycle: cycler(color=['008fd5', \"): Key axes.prop_cycle: 'cycler(color=['008fd5',' is not a valid cycler construction: unexpected EOF while parsing (<string>, line 1)\n",
      "Bad value in file PosixPath('/home/ptrbdr/.config/matplotlib/stylelib/texty.mplstyle'), line 29 ('xtick.major.width: 2xtick.minor.size: 5'): Key xtick.major.width: Could not convert '2xtick.minor.size: 5' to float\n",
      "Bad value in file PosixPath('/home/ptrbdr/.config/matplotlib/stylelib/texty.mplstyle'), line 32 ('ytick.major.width: 2ytick.minor.size: 5'): Key ytick.major.width: Could not convert '2ytick.minor.size: 5' to float\n"
     ]
    }
   ],
   "source": [
    "import pandas as pd\n",
    "import networkx as nx\n",
    "import json\n",
    "from pathlib import Path\n",
    "from networkx.algorithms import community\n",
    "from networkx.algorithms.approximation.distance_measures import diameter as approx_diameter\n",
    "from collections import Counter\n",
    "import matplotlib.pyplot as plt\n",
    "from operator import itemgetter\n"
   ]
  },
  {
   "cell_type": "code",
   "execution_count": 4,
   "metadata": {
    "ExecuteTime": {
     "end_time": "2022-09-15T10:01:00.546978Z",
     "start_time": "2022-09-15T10:01:00.544156Z"
    }
   },
   "outputs": [],
   "source": [
    "folder_with_csvs = \"../dealing_with_stream_and_networks/mosekspertiza/\""
   ]
  },
  {
   "cell_type": "code",
   "execution_count": 5,
   "metadata": {
    "ExecuteTime": {
     "end_time": "2022-09-15T10:01:08.195570Z",
     "start_time": "2022-09-15T10:01:01.847179Z"
    }
   },
   "outputs": [
    {
     "name": "stderr",
     "output_type": "stream",
     "text": [
      "<ipython-input-5-3ea93104129a>:1: DtypeWarning: Columns (13) have mixed types. Specify dtype option on import or set low_memory=False.\n",
      "  data = {d.stem: pd.read_csv(d) for d in Path(folder_with_csvs).glob(\"*.csv\")}\n",
      "<ipython-input-5-3ea93104129a>:1: DtypeWarning: Columns (13) have mixed types. Specify dtype option on import or set low_memory=False.\n",
      "  data = {d.stem: pd.read_csv(d) for d in Path(folder_with_csvs).glob(\"*.csv\")}\n",
      "<ipython-input-5-3ea93104129a>:1: DtypeWarning: Columns (3,6,10) have mixed types. Specify dtype option on import or set low_memory=False.\n",
      "  data = {d.stem: pd.read_csv(d) for d in Path(folder_with_csvs).glob(\"*.csv\")}\n",
      "<ipython-input-5-3ea93104129a>:1: DtypeWarning: Columns (43) have mixed types. Specify dtype option on import or set low_memory=False.\n",
      "  data = {d.stem: pd.read_csv(d) for d in Path(folder_with_csvs).glob(\"*.csv\")}\n"
     ]
    }
   ],
   "source": [
    "data = {d.stem: pd.read_csv(d) for d in Path(folder_with_csvs).glob(\"*.csv\")}"
   ]
  },
  {
   "cell_type": "code",
   "execution_count": 6,
   "metadata": {
    "ExecuteTime": {
     "end_time": "2022-09-15T10:01:08.199590Z",
     "start_time": "2022-09-15T10:01:08.197183Z"
    }
   },
   "outputs": [],
   "source": [
    "links = data['_links']\n",
    "\n"
   ]
  },
  {
   "cell_type": "code",
   "execution_count": 142,
   "metadata": {
    "ExecuteTime": {
     "end_time": "2022-09-15T10:59:59.739459Z",
     "start_time": "2022-09-15T10:59:59.564647Z"
    }
   },
   "outputs": [
    {
     "data": {
      "text/plain": [
       "ANCESTORS              922911\n",
       "PEOPLE_MENTIONED       381276\n",
       "COMPANIES_MENTIONED    313140\n",
       "DOCUMENT               222318\n",
       "NAMES_MENTIONED        125940\n",
       "RECIPIENTS             118019\n",
       "EMITTERS                97923\n",
       "IN_REPLY_TO_EMAIL       14730\n",
       "NAME                     9534\n",
       "PROOF                    1680\n",
       "ORGANIZER                 151\n",
       "INVOLVED                   21\n",
       "Name: :TYPE, dtype: int64"
      ]
     },
     "execution_count": 142,
     "metadata": {},
     "output_type": "execute_result"
    }
   ],
   "source": [
    "links[':TYPE'].value_counts()"
   ]
  },
  {
   "cell_type": "code",
   "execution_count": 8,
   "metadata": {
    "ExecuteTime": {
     "end_time": "2022-09-15T10:01:12.876090Z",
     "start_time": "2022-09-15T10:01:12.710247Z"
    }
   },
   "outputs": [],
   "source": [
    "links_without_folders = links[~links[':TYPE'].isin([\"ANCESTORS\", \"PARENT\"])]"
   ]
  },
  {
   "cell_type": "markdown",
   "metadata": {},
   "source": [
    "## Basic Analysis"
   ]
  },
  {
   "cell_type": "code",
   "execution_count": 34,
   "metadata": {
    "ExecuteTime": {
     "end_time": "2022-09-15T10:11:44.255971Z",
     "start_time": "2022-09-15T10:11:37.548404Z"
    },
    "code_folding": []
   },
   "outputs": [],
   "source": [
    "G = nx.from_pandas_edgelist(links_without_folders, source=\":START_ID\", target=\":END_ID\", edge_attr=True,\n",
    "                                   create_using=nx.DiGraph())"
   ]
  },
  {
   "cell_type": "code",
   "execution_count": 35,
   "metadata": {
    "ExecuteTime": {
     "end_time": "2022-09-15T10:11:45.644815Z",
     "start_time": "2022-09-15T10:11:45.283446Z"
    }
   },
   "outputs": [],
   "source": [
    "N, K = G.order(), G.size()\n",
    "avg_deg = float(K) / N\n",
    "\n",
    "print(\"Nodes: \", N)\n",
    "print(\"Edges: \", K)\n",
    "print(\"Average degree: \", avg_deg)\n",
    "print(\"Number strongly connected components: \", nx.number_strongly_connected_components(G))\n",
    "print(\"Number weakly connected components: \", nx.number_weakly_connected_components(G))"
   ]
  },
  {
   "cell_type": "code",
   "execution_count": 174,
   "metadata": {
    "ExecuteTime": {
     "end_time": "2022-09-15T11:05:19.089202Z",
     "start_time": "2022-09-15T11:05:17.593177Z"
    }
   },
   "outputs": [
    {
     "name": "stdout",
     "output_type": "stream",
     "text": [
      "Top 20 nodes by degree:\n",
      "('name:ao-mosekspertiza', 22545)\n",
      "('entity:00bf83615941b10e7d1f1db65ec8fc7dff0c3855.794bb3bb3c338923c904dcf51312bc3564b4451e', 14070)\n",
      "('entity:77ba615e5e0b6977b5eb4940199519e032dd51ef.0a45a0998943b7948332b93b5adc6eecfb58d232', 12181)\n",
      "('name:vasileva-galina-aleksandrovna', 11726)\n",
      "('name:sinova-e-a', 11619)\n",
      "('name:zao-mosekspertiza', 11528)\n",
      "('name:elena-alekseevna', 11255)\n",
      "('entity:04d398b113fd81e5bb82a01d5695d39d0154cfe1.44dc765734df53b1c71c962962d15aaab5bd46a2', 9488)\n",
      "('name:galina-aleksandrovna', 7267)\n",
      "('name:souz-moskovskaa-torgovo-promyslennaa-palata', 6787)\n",
      "('entity:10298ae990a7e7a3eee6b476b23bd2dd5db3a17b.f0dd91ef4965c1761aecb4a957724b81232424d9', 6388)\n",
      "('name:moskovskaa-torgovo-promyslennaa-palata', 5251)\n",
      "('name:tatana-vladimirovna', 5030)\n",
      "('name:polakov-denis-vasilevic', 4823)\n",
      "('entity:e0790774be23be176ed5745ee4eee7e01e86c668.8fb88190aac52721fdac3f639ce2f9dd3ac25867', 4658)\n",
      "('name:natala-nikolaevna', 4625)\n",
      "('name:sokolova-natala-nikolaevna', 4599)\n",
      "('name:magkova-elvira-mihajlovna', 4597)\n",
      "('name:portal-post-avsikov', 4590)\n",
      "('entity:3b89ee31fdafc1ee28249d8557153a4f74645bbf.4588fb0fd74761d45d97fdc4ff32a193a9c1fe2b', 4320)\n"
     ]
    }
   ],
   "source": [
    "degree_dict = dict(G.degree(G.nodes()))\n",
    "nx.set_node_attributes(G, degree_dict, 'degree')\n",
    "\n",
    "\n",
    "sorted_degree = sorted(degree_dict.items(), key=itemgetter(1), reverse=True)\n",
    "\n",
    "print(\"Top 20 nodes by degree:\")\n",
    "for d in sorted_degree[:20]:\n",
    "    print(d)"
   ]
  },
  {
   "cell_type": "code",
   "execution_count": 72,
   "metadata": {
    "ExecuteTime": {
     "end_time": "2022-09-15T10:23:42.192890Z",
     "start_time": "2022-09-15T10:23:41.944966Z"
    }
   },
   "outputs": [],
   "source": [
    "in_degrees = G.in_degree() # dictionary node:degree\n",
    "counter_in_degree = Counter([d[1] for d in in_degrees])\n",
    "in_values = sorted(counter_in_degree.keys())\n",
    "in_hist = [counter_id_degree[d] for d in x]"
   ]
  },
  {
   "cell_type": "code",
   "execution_count": 73,
   "metadata": {
    "ExecuteTime": {
     "end_time": "2022-09-15T10:24:08.182659Z",
     "start_time": "2022-09-15T10:24:07.935463Z"
    }
   },
   "outputs": [],
   "source": [
    "out_degrees = G.out_degree() # dictionary node:degree\n",
    "counter_out_degree = Counter([d[1] for d in out_degrees])\n",
    "out_values = sorted(counter_out_degree.keys())\n",
    "out_hist = [counter_out_degree[d] for d in x]"
   ]
  },
  {
   "cell_type": "code",
   "execution_count": 78,
   "metadata": {
    "ExecuteTime": {
     "end_time": "2022-09-15T10:24:50.625828Z",
     "start_time": "2022-09-15T10:24:50.619533Z"
    }
   },
   "outputs": [
    {
     "data": {
      "text/plain": [
       "(602, 192)"
      ]
     },
     "execution_count": 78,
     "metadata": {},
     "output_type": "execute_result"
    }
   ],
   "source": [
    "len(in_values), len(out_values)"
   ]
  },
  {
   "cell_type": "code",
   "execution_count": 87,
   "metadata": {
    "ExecuteTime": {
     "end_time": "2022-09-15T10:27:27.840084Z",
     "start_time": "2022-09-15T10:27:27.248070Z"
    }
   },
   "outputs": [
    {
     "name": "stderr",
     "output_type": "stream",
     "text": [
      "<ipython-input-87-f6b0d91238e2>:9: UserWarning: Attempted to set non-positive left xlim on a log-scaled axis.\n",
      "Invalid limit will be ignored.\n",
      "  plt.xlim([0, 200])\n"
     ]
    },
    {
     "data": {
      "text/plain": [
       "(0.6058254143557258, 200)"
      ]
     },
     "execution_count": 87,
     "metadata": {},
     "output_type": "execute_result"
    },
    {
     "data": {
      "image/png": "[encoded data removed]",
      "text/plain": [
       "<Figure size 432x288 with 1 Axes>"
      ]
     },
     "metadata": {
      "needs_background": "light"
     },
     "output_type": "display_data"
    }
   ],
   "source": [
    "plt.figure() \n",
    "plt.grid(True)\n",
    "plt.loglog(in_values, in_hist, 'ro-') # in-degree\n",
    "plt.plot(in_values, out_hist, 'bv-') # out-degree\n",
    "plt.legend(['In-degree', 'Out-degree'])\n",
    "plt.xlabel('Degree')\n",
    "plt.ylabel('Number of nodes')\n",
    "plt.title('network of entities in dataset')\n",
    "plt.xlim([0, 200])\n"
   ]
  },
  {
   "cell_type": "markdown",
   "metadata": {},
   "source": [
    "Working with undirected graph"
   ]
  },
  {
   "cell_type": "code",
   "execution_count": 89,
   "metadata": {
    "ExecuteTime": {
     "end_time": "2022-09-15T10:29:01.854384Z",
     "start_time": "2022-09-15T10:29:01.847238Z"
    }
   },
   "outputs": [
    {
     "data": {
      "text/plain": [
       "<networkx.classes.graph.Graph at 0x7f902b8fe3a0>"
      ]
     },
     "execution_count": 89,
     "metadata": {},
     "output_type": "execute_result"
    }
   ],
   "source": [
    "G_undirect = G.to_undirected()\n"
   ]
  },
  {
   "cell_type": "code",
   "execution_count": 112,
   "metadata": {
    "ExecuteTime": {
     "end_time": "2022-09-15T10:35:22.483008Z",
     "start_time": "2022-09-15T10:35:22.445721Z"
    }
   },
   "outputs": [
    {
     "name": "stdout",
     "output_type": "stream",
     "text": [
      "Average clustering coef:  0.046\n"
     ]
    }
   ],
   "source": [
    "print(\"Average clustering coef: \", \n",
    "      nx.algorithms.approximation.clustering_coefficient.average_clustering(G_undirect))"
   ]
  },
  {
   "cell_type": "code",
   "execution_count": 119,
   "metadata": {
    "ExecuteTime": {
     "end_time": "2022-09-15T10:40:41.038577Z",
     "start_time": "2022-09-15T10:40:39.259393Z"
    }
   },
   "outputs": [
    {
     "name": "stdout",
     "output_type": "stream",
     "text": [
      "0.9297201684746379\n"
     ]
    }
   ],
   "source": [
    "components = nx.connected_components(G_undirect)\n",
    "\n",
    "largest_component = max(components, key=len)\n",
    "\n",
    "print(len(largest_component)/len(G_undirect.nodes))\n",
    "\n",
    "G_largest = G_undirect.subgraph(largest_component)\n"
   ]
  },
  {
   "cell_type": "code",
   "execution_count": 129,
   "metadata": {
    "ExecuteTime": {
     "end_time": "2022-09-15T10:51:22.664590Z",
     "start_time": "2022-09-15T10:51:22.662366Z"
    }
   },
   "outputs": [],
   "source": [
    "# Betweenness centrality\n",
    "bet_cen = nx.algorithms.centrality.betweenness_centrality(G_largest, k=25_000)\n",
    "\n",
    "# Closeness centrality\n",
    "clo_cen = nx.algorithms.centrality.closeness_centrality(G_largest, k=25_000)\n",
    "\n",
    "# Eigenvector centrality\n",
    "eig_cen = nx.algorithms.centrality.eigenvector_centrality(G_largest, k=25_000)"
   ]
  },
  {
   "cell_type": "code",
   "execution_count": null,
   "metadata": {
    "ExecuteTime": {
     "end_time": "2022-09-15T10:48:26.070737Z",
     "start_time": "2022-09-15T10:44:48.304Z"
    }
   },
   "outputs": [],
   "source": [
    "def get_top_keys(dictionary, top):\n",
    "    items = dictionary.items()\n",
    "    items.sort(reverse=True, key=lambda x: x[1])\n",
    "    return map(lambda x: x[0], items[:top])"
   ]
  },
  {
   "cell_type": "code",
   "execution_count": null,
   "metadata": {
    "ExecuteTime": {
     "end_time": "2022-09-15T10:48:26.072670Z",
     "start_time": "2022-09-15T10:44:48.630Z"
    }
   },
   "outputs": [],
   "source": [
    "top_bet_cen = get_top_keys(bet_cen,10)\n",
    "top_clo_cen = get_top_keys(clo_cen,10)\n",
    "top_eig_cent = get_top_keys(eig_cen,10)"
   ]
  },
  {
   "cell_type": "code",
   "execution_count": 107,
   "metadata": {
    "ExecuteTime": {
     "end_time": "2022-09-15T10:34:30.533885Z",
     "start_time": "2022-09-15T10:34:30.241999Z"
    }
   },
   "outputs": [
    {
     "name": "stdout",
     "output_type": "stream",
     "text": [
      "Network density: 9.21558426474675e-06\n"
     ]
    }
   ],
   "source": [
    "density = nx.density(G_undirect)\n",
    "print(\"Network density:\", density)"
   ]
  },
  {
   "cell_type": "code",
   "execution_count": 109,
   "metadata": {
    "ExecuteTime": {
     "end_time": "2022-09-15T10:34:51.659894Z",
     "start_time": "2022-09-15T10:34:50.462774Z"
    },
    "scrolled": true
   },
   "outputs": [
    {
     "name": "stdout",
     "output_type": "stream",
     "text": [
      "False\n"
     ]
    }
   ],
   "source": [
    "# If your Graph has more than one component, this will return False:\n",
    "print(nx.is_connected(G_undirect))\n"
   ]
  },
  {
   "cell_type": "code",
   "execution_count": 19,
   "metadata": {
    "ExecuteTime": {
     "end_time": "2022-09-15T10:02:26.246506Z",
     "start_time": "2022-09-15T10:02:15.417441Z"
    }
   },
   "outputs": [
    {
     "name": "stdout",
     "output_type": "stream",
     "text": [
      "Network diameter of largest component: 21\n"
     ]
    }
   ],
   "source": [
    "diameter = approx_diameter(subgraph)\n",
    "print(\"Network diameter of largest component:\", diameter)"
   ]
  },
  {
   "cell_type": "code",
   "execution_count": null,
   "metadata": {
    "ExecuteTime": {
     "end_time": "2022-09-15T09:48:26.901147Z",
     "start_time": "2022-09-15T09:46:35.657Z"
    }
   },
   "outputs": [],
   "source": [
    "communities = community.greedy_modularity_communities(G)"
   ]
  },
  {
   "cell_type": "markdown",
   "metadata": {},
   "source": [
    "## Checking the path between two nodes"
   ]
  },
  {
   "cell_type": "code",
   "execution_count": 165,
   "metadata": {
    "ExecuteTime": {
     "end_time": "2022-09-15T11:03:21.192280Z",
     "start_time": "2022-09-15T11:03:21.178243Z"
    }
   },
   "outputs": [],
   "source": [
    "nodes_between = nx.shortest_path(G_largest, source='name:galina-aleksandrovna', target='name:susary-g-kolpinskoe-slavanka')"
   ]
  },
  {
   "cell_type": "code",
   "execution_count": 166,
   "metadata": {
    "ExecuteTime": {
     "end_time": "2022-09-15T11:03:21.378888Z",
     "start_time": "2022-09-15T11:03:21.376098Z"
    }
   },
   "outputs": [],
   "source": [
    "SG = G_largest.subgraph(nodes_between)"
   ]
  },
  {
   "cell_type": "code",
   "execution_count": 167,
   "metadata": {
    "ExecuteTime": {
     "end_time": "2022-09-15T11:03:21.733684Z",
     "start_time": "2022-09-15T11:03:21.728414Z"
    }
   },
   "outputs": [
    {
     "data": {
      "text/plain": [
       "['name:galina-aleksandrovna',\n",
       " 'entity:2515137.fd7bc411c902d6ad99bca654d7e2d0fa3a3f23fc',\n",
       " 'name:zao-mosekspertiza',\n",
       " 'entity:103ce5e7d2b9ef0d5b7563dfee7b69d7bb58882d.25d16ce1c93f0ff97573b6df8b83e0ce9df44aa2',\n",
       " 'name:susary-g-kolpinskoe-slavanka']"
      ]
     },
     "execution_count": 167,
     "metadata": {},
     "output_type": "execute_result"
    }
   ],
   "source": [
    "nodes_between"
   ]
  },
  {
   "cell_type": "code",
   "execution_count": 168,
   "metadata": {
    "ExecuteTime": {
     "end_time": "2022-09-15T11:03:24.678639Z",
     "start_time": "2022-09-15T11:03:24.673511Z"
    }
   },
   "outputs": [
    {
     "data": {
      "text/plain": [
       "{':TYPE': 'PEOPLE_MENTIONED', 'weight': 0.3617021276595745}"
      ]
     },
     "execution_count": 168,
     "metadata": {},
     "output_type": "execute_result"
    }
   ],
   "source": [
    "G_largest.get_edge_data(\"name:galina-aleksandrovna\", \"entity:2515137.fd7bc411c902d6ad99bca654d7e2d0fa3a3f23fc\")"
   ]
  },
  {
   "cell_type": "code",
   "execution_count": 169,
   "metadata": {
    "ExecuteTime": {
     "end_time": "2022-09-15T11:03:28.085766Z",
     "start_time": "2022-09-15T11:03:28.080711Z"
    }
   },
   "outputs": [
    {
     "data": {
      "text/plain": [
       "{':TYPE': 'COMPANIES_MENTIONED', 'weight': 0.3191489361702128}"
      ]
     },
     "execution_count": 169,
     "metadata": {},
     "output_type": "execute_result"
    }
   ],
   "source": [
    "G_largest.get_edge_data(\"entity:2515137.fd7bc411c902d6ad99bca654d7e2d0fa3a3f23fc\", \"name:zao-mosekspertiza\")"
   ]
  },
  {
   "cell_type": "code",
   "execution_count": 170,
   "metadata": {
    "ExecuteTime": {
     "end_time": "2022-09-15T11:03:28.602514Z",
     "start_time": "2022-09-15T11:03:28.598002Z"
    }
   },
   "outputs": [
    {
     "data": {
      "text/plain": [
       "{':TYPE': 'COMPANIES_MENTIONED', 'weight': 0.3191489361702128}"
      ]
     },
     "execution_count": 170,
     "metadata": {},
     "output_type": "execute_result"
    }
   ],
   "source": [
    "G_largest.get_edge_data(\"name:zao-mosekspertiza\", \"entity:103ce5e7d2b9ef0d5b7563dfee7b69d7bb58882d.25d16ce1c93f0ff97573b6df8b83e0ce9df44aa2\")"
   ]
  },
  {
   "cell_type": "code",
   "execution_count": 171,
   "metadata": {
    "ExecuteTime": {
     "end_time": "2022-09-15T11:03:28.805981Z",
     "start_time": "2022-09-15T11:03:28.801325Z"
    }
   },
   "outputs": [
    {
     "data": {
      "text/plain": [
       "{':TYPE': 'COMPANIES_MENTIONED', 'weight': 0.5531914893617021}"
      ]
     },
     "execution_count": 171,
     "metadata": {},
     "output_type": "execute_result"
    }
   ],
   "source": [
    "G_largest.get_edge_data(\"entity:103ce5e7d2b9ef0d5b7563dfee7b69d7bb58882d.25d16ce1c93f0ff97573b6df8b83e0ce9df44aa2\",\n",
    "                        \"name:susary-g-kolpinskoe-slavanka\")"
   ]
  },
  {
   "cell_type": "code",
   "execution_count": 172,
   "metadata": {
    "ExecuteTime": {
     "end_time": "2022-09-15T11:03:29.217905Z",
     "start_time": "2022-09-15T11:03:29.062066Z"
    }
   },
   "outputs": [
    {
     "data": {
      "image/png": "[encoded data removed]",
      "text/plain": [
       "<Figure size 432x288 with 1 Axes>"
      ]
     },
     "metadata": {},
     "output_type": "display_data"
    }
   ],
   "source": [
    "nx.draw(SG)"
   ]
  },
  {
   "cell_type": "code",
   "execution_count": null,
   "metadata": {},
   "outputs": [],
   "source": []
  },
  {
   "cell_type": "markdown",
   "metadata": {},
   "source": [
    "## only letters"
   ]
  },
  {
   "cell_type": "markdown",
   "metadata": {},
   "source": [
    "Here we selected only those connections that arouse directly from email correspondence"
   ]
  },
  {
   "cell_type": "code",
   "execution_count": 178,
   "metadata": {
    "ExecuteTime": {
     "end_time": "2022-09-15T11:10:05.964604Z",
     "start_time": "2022-09-15T11:10:05.888915Z"
    }
   },
   "outputs": [],
   "source": [
    "only_email_connections = links[links[':TYPE'].isin([\"INVOLVED\", \"ORGANIZER\",\n",
    "                                                   \"IN_REPLY_TO_EMAIL\",\n",
    "                                                   \"EMITTERS\", \"RECIPIENTS\"])]"
   ]
  },
  {
   "cell_type": "code",
   "execution_count": 181,
   "metadata": {
    "ExecuteTime": {
     "end_time": "2022-09-15T11:10:49.538929Z",
     "start_time": "2022-09-15T11:10:48.589110Z"
    }
   },
   "outputs": [],
   "source": [
    "G_emails = nx.from_pandas_edgelist(only_email_connections, source=\":START_ID\", target=\":END_ID\", edge_attr=True,\n",
    "                                   create_using=nx.DiGraph())"
   ]
  },
  {
   "cell_type": "code",
   "execution_count": 186,
   "metadata": {
    "ExecuteTime": {
     "end_time": "2022-09-15T11:16:25.427612Z",
     "start_time": "2022-09-15T11:16:24.502753Z"
    }
   },
   "outputs": [
    {
     "name": "stdout",
     "output_type": "stream",
     "text": [
      "Nodes:  109826\n",
      "Edges:  230844\n",
      "Average degree:  2.1019066523409755\n",
      "Number strongly connected components:  109826\n",
      "Number weakly connected components:  1478\n"
     ]
    }
   ],
   "source": [
    "N, K = G_emails.order(), G_emails.size()\n",
    "avg_deg = float(K) / N\n",
    "\n",
    "print(\"Nodes: \", N)\n",
    "print(\"Edges: \", K)\n",
    "print(\"Average degree: \", avg_deg)\n",
    "print(\"Number strongly connected components: \", nx.number_strongly_connected_components(G))\n",
    "print(\"Number weakly connected components: \", nx.number_weakly_connected_components(G))"
   ]
  },
  {
   "cell_type": "code",
   "execution_count": 187,
   "metadata": {
    "ExecuteTime": {
     "end_time": "2022-09-15T11:16:31.776825Z",
     "start_time": "2022-09-15T11:16:31.558765Z"
    }
   },
   "outputs": [
    {
     "name": "stdout",
     "output_type": "stream",
     "text": [
      "Top 20 nodes by degree:\n",
      "('entity:00bf83615941b10e7d1f1db65ec8fc7dff0c3855.794bb3bb3c338923c904dcf51312bc3564b4451e', 14054)\n",
      "('entity:77ba615e5e0b6977b5eb4940199519e032dd51ef.0a45a0998943b7948332b93b5adc6eecfb58d232', 12179)\n",
      "('entity:04d398b113fd81e5bb82a01d5695d39d0154cfe1.44dc765734df53b1c71c962962d15aaab5bd46a2', 9485)\n",
      "('entity:10298ae990a7e7a3eee6b476b23bd2dd5db3a17b.f0dd91ef4965c1761aecb4a957724b81232424d9', 6376)\n",
      "('entity:e0790774be23be176ed5745ee4eee7e01e86c668.8fb88190aac52721fdac3f639ce2f9dd3ac25867', 4657)\n",
      "('entity:2f9adb72834855d02b8597114b8f91483282e585.c7a4b8774ab3b4c6f498746e876cd196b3ade3d2', 4083)\n",
      "('entity:97d60bd70119334f5551b25df83f89cd35d9362b.788413048a75d523257f95133816be37b0090a5b', 4030)\n",
      "('entity:b733cdc0bb3f018e3cbedb8423b51df47aa21429.06760a7bc5dfe01930a4a5e8b88b3e94d1c25e39', 4026)\n",
      "('entity:2d5cebf7faddb3eecf8ae2a64ee1cb015263a50c.da13760f401a5667a26d053f3404db65cd3362ba', 3882)\n",
      "('entity:676299af4f40f51ba5d90f0b43e72bbe92ffad00.b972baf162603b681a03108133da904c0634d65d', 3634)\n",
      "('entity:4421b873d9d99a534069a9603e54eff8da52b820.191f8260082f816cc30d6a336f1036e251d96038', 3097)\n",
      "('entity:5208e03ccb308e739f007ae3b1b4a4ab4ce007b6.cf7c40c13c30164b9c2dd5812e1bc6d070cb7b58', 3081)\n",
      "('entity:37cd0c84cded96a9f5546ff3db63a4d99917a8bf.6db5183840352bc442d65e381a4570ff3467bfce', 2528)\n",
      "('entity:277081461e0e778d33fbe4f2e31c6afb9467497e.0ffc72a2e0bd463d1802c7fe35b59bc535bd2742', 2469)\n",
      "('entity:e88d5efb697280f49722bfe5b144411edec301a7.f786f1aa66069dfb61fe2d7d0a7700613a0e6884', 2422)\n",
      "('entity:aea45dbdb6bbbc4e47dfef04d945cecdb9221a94.d445fdf989b04145d9c3ee83d6a7c1f56f2a124d', 2383)\n",
      "('entity:28c7f427e9a565c632310b6ed0265e78c145bff8.bb9a6e5df2825b04f2841a4092f16d02e2872d5a', 2252)\n",
      "('entity:9c0c9246718fc5ae571e69ce60ac6cf423248499.3e485e21ea45b963bf1f19d94811ed20c444c1c8', 2149)\n",
      "('entity:21f97a18d2a113e1f61e8dc85433b5d1ee82e946.c9401af7a30403ed7ada303edd2b5a37d32e42fd', 2057)\n",
      "('entity:932116cff27b7cfa5f7f87a7391283225fbb8390.0a7b25d479eeabbccf395f35b205ffcefe81a301', 2042)\n"
     ]
    }
   ],
   "source": [
    "degree_dict = dict(G_emails.degree(G_emails.nodes()))\n",
    "nx.set_node_attributes(G_emails, degree_dict, 'degree')\n",
    "\n",
    "\n",
    "sorted_degree = sorted(degree_dict.items(), key=itemgetter(1), reverse=True)\n",
    "\n",
    "print(\"Top 20 nodes by degree:\")\n",
    "for d in sorted_degree[:20]:\n",
    "    print(d)"
   ]
  },
  {
   "cell_type": "code",
   "execution_count": 193,
   "metadata": {
    "ExecuteTime": {
     "end_time": "2022-09-15T11:18:28.083061Z",
     "start_time": "2022-09-15T11:18:26.292813Z"
    }
   },
   "outputs": [],
   "source": [
    "G_emails_undirect = G_emails.to_undirected()\n"
   ]
  },
  {
   "cell_type": "code",
   "execution_count": 201,
   "metadata": {
    "ExecuteTime": {
     "end_time": "2022-09-15T11:21:05.662100Z",
     "start_time": "2022-09-15T11:21:05.656023Z"
    }
   },
   "outputs": [],
   "source": [
    "nodes_between = nx.shortest_path(G_emails_undirect,\n",
    "source='entity:10298ae990a7e7a3eee6b476b23bd2dd5db3a17b.f0dd91ef4965c1761aecb4a957724b81232424d9',\n",
    "target='entity:932116cff27b7cfa5f7f87a7391283225fbb8390.0a7b25d479eeabbccf395f35b205ffcefe81a301'\n",
    ")"
   ]
  },
  {
   "cell_type": "code",
   "execution_count": 202,
   "metadata": {
    "ExecuteTime": {
     "end_time": "2022-09-15T11:21:09.172079Z",
     "start_time": "2022-09-15T11:21:09.168174Z"
    }
   },
   "outputs": [
    {
     "data": {
      "text/plain": [
       "['entity:10298ae990a7e7a3eee6b476b23bd2dd5db3a17b.f0dd91ef4965c1761aecb4a957724b81232424d9',\n",
       " 'entity:2453591.ac8ef17c058984caa8d1cd3440ddd954477b9551',\n",
       " 'entity:932116cff27b7cfa5f7f87a7391283225fbb8390.0a7b25d479eeabbccf395f35b205ffcefe81a301']"
      ]
     },
     "execution_count": 202,
     "metadata": {},
     "output_type": "execute_result"
    }
   ],
   "source": [
    "nodes_between"
   ]
  },
  {
   "cell_type": "markdown",
   "metadata": {},
   "source": [
    "How many connections you need to break to remove link between those two nodes."
   ]
  },
  {
   "cell_type": "code",
   "execution_count": 206,
   "metadata": {
    "ExecuteTime": {
     "end_time": "2022-09-15T11:23:30.415008Z",
     "start_time": "2022-09-15T11:23:02.871880Z"
    }
   },
   "outputs": [
    {
     "data": {
      "text/plain": [
       "133"
      ]
     },
     "execution_count": 206,
     "metadata": {},
     "output_type": "execute_result"
    }
   ],
   "source": [
    "nx.node_connectivity(G_emails_undirect,\n",
    "s='entity:10298ae990a7e7a3eee6b476b23bd2dd5db3a17b.f0dd91ef4965c1761aecb4a957724b81232424d9',\n",
    "t='entity:932116cff27b7cfa5f7f87a7391283225fbb8390.0a7b25d479eeabbccf395f35b205ffcefe81a301'\n",
    ")"
   ]
  },
  {
   "cell_type": "markdown",
   "metadata": {},
   "source": [
    "## Also useful"
   ]
  },
  {
   "cell_type": "markdown",
   "metadata": {},
   "source": [
    "Alternative with better performance for large scale data: [igraph](https://igraph.org/python/)."
   ]
  }
 ],
 "metadata": {
  "kernelspec": {
   "display_name": "Python 3",
   "language": "python",
   "name": "python3"
  },
  "language_info": {
   "codemirror_mode": {
    "name": "ipython",
    "version": 3
   },
   "file_extension": ".py",
   "mimetype": "text/x-python",
   "name": "python",
   "nbconvert_exporter": "python",
   "pygments_lexer": "ipython3",
   "version": "3.8.10"
  },
  "toc": {
   "base_numbering": 1,
   "nav_menu": {},
   "number_sections": true,
   "sideBar": true,
   "skip_h1_title": false,
   "title_cell": "Table of Contents",
   "title_sidebar": "Contents",
   "toc_cell": false,
   "toc_position": {},
   "toc_section_display": true,
   "toc_window_display": false
  }
 },
 "nbformat": 4,
 "nbformat_minor": 4
}
