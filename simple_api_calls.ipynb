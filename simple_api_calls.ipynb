{
 "cells": [
  {
   "cell_type": "code",
   "execution_count": 1,
   "metadata": {
    "ExecuteTime": {
     "end_time": "2022-09-21T13:30:20.008664Z",
     "start_time": "2022-09-21T13:30:19.937026Z"
    }
   },
   "outputs": [],
   "source": [
    "import requests"
   ]
  },
  {
   "cell_type": "markdown",
   "metadata": {
    "ExecuteTime": {
     "end_time": "2022-09-21T13:23:39.735477Z",
     "start_time": "2022-09-21T13:23:39.729930Z"
    }
   },
   "source": [
    "Читайте детальніші [api специфікації](https://redocly.github.io/redoc/?url=https://aleph.occrp.org/api/openapi.json) від розробників Aleph. Нижче кілька простих прикладів запитів які ви можете зробити, щоб отримати додаткову інформацію."
   ]
  },
  {
   "cell_type": "markdown",
   "metadata": {},
   "source": [
    "Завдання — отримати листи зі зливу vgtrk за період з початку повномасштабного вторгнення до 1 березня."
   ]
  },
  {
   "cell_type": "code",
   "execution_count": 14,
   "metadata": {
    "ExecuteTime": {
     "end_time": "2022-09-21T13:31:02.294836Z",
     "start_time": "2022-09-21T13:31:02.291628Z"
    }
   },
   "outputs": [],
   "source": [
    "params = \"schema=Email&q=война&collection_id=10&limit=25&filter:gte:dates=2022-02-24&filter:lte:dates=2022-03-01\""
   ]
  },
  {
   "cell_type": "markdown",
   "metadata": {},
   "source": [
    "`q=война` — фраза за якою потрібно шукати по тексту листа\n",
    "\n",
    "`schema=Email` — так ми вказуємо, що нас цікавлять саме emails\\\n",
    "\n",
    "`collection_id=10` — вказуємо в якому зливі ми шукаємо, щоб дізнати номер зайдіть [сюди](https://aleph.texty.org.ua/datasets), виберіть набір даних та подивіться номер в пошуковому рядку. Наприклад для  `aerogaz` він \"https://aleph.texty.org.ua/datasets/33/ тобто 33.\n",
    "\n",
    "`limit=25` — кількість результатів на одній сторінці (в одному запиті\n",
    "\n",
    "`filter:gte:dates=2022-02-24&filter:lte:dates=2022-03-01` — дати листів від 24 лютого до 1 березня 2022 року"
   ]
  },
  {
   "cell_type": "code",
   "execution_count": 15,
   "metadata": {
    "ExecuteTime": {
     "end_time": "2022-09-21T13:31:13.879029Z",
     "start_time": "2022-09-21T13:31:02.663710Z"
    }
   },
   "outputs": [],
   "source": [
    "r = requests.get(\n",
    "    f'https://aleph.texty.org.ua/api/2/entities?filter:{params}',\n",
    "headers={'Authorization': '<api_key>'})"
   ]
  },
  {
   "cell_type": "code",
   "execution_count": 23,
   "metadata": {
    "ExecuteTime": {
     "end_time": "2022-09-21T13:33:22.816305Z",
     "start_time": "2022-09-21T13:33:22.813748Z"
    }
   },
   "outputs": [],
   "source": [
    "r.json()"
   ]
  },
  {
   "cell_type": "code",
   "execution_count": null,
   "metadata": {},
   "outputs": [],
   "source": []
  }
 ],
 "metadata": {
  "kernelspec": {
   "display_name": "Python 3",
   "language": "python",
   "name": "python3"
  },
  "language_info": {
   "codemirror_mode": {
    "name": "ipython",
    "version": 3
   },
   "file_extension": ".py",
   "mimetype": "text/x-python",
   "name": "python",
   "nbconvert_exporter": "python",
   "pygments_lexer": "ipython3",
   "version": "3.8.10"
  },
  "toc": {
   "base_numbering": 1,
   "nav_menu": {},
   "number_sections": true,
   "sideBar": true,
   "skip_h1_title": false,
   "title_cell": "Table of Contents",
   "title_sidebar": "Contents",
   "toc_cell": false,
   "toc_position": {},
   "toc_section_display": true,
   "toc_window_display": false
  }
 },
 "nbformat": 4,
 "nbformat_minor": 4
}
